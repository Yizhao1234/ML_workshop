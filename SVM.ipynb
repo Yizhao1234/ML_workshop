{
 "cells": [
  {
   "cell_type": "markdown",
   "metadata": {},
   "source": [
    "# Support Vector Machine (SVM)\n",
    "First we import the required packages that we will use. "
   ]
  },
  {
   "cell_type": "code",
   "execution_count": null,
   "metadata": {},
   "outputs": [],
   "source": [
    "import numpy as np\n",
    "from sklearn.svm import SVC\n",
    "from sklearn.model_selection import train_test_split\n",
    "from sklearn.metrics import accuracy_score\n",
    "from sklearn.preprocessing import LabelEncoder\n",
    "import pandas as pd\n",
    "import plotly.graph_objs as go\n",
    "import urllib.request\n",
    "\n",
    "print('Beginning file download with url...')\n",
    "\n",
    "url = 'https://raw.githubusercontent.com/mohammadrashedi/ML_workshop/master/data_svms_and_kernels.csv'\n",
    "urllib.request.urlretrieve(url, 'data_svms_and_kernels.csv')\n",
    "print('File download done!')"
   ]
  },
  {
   "cell_type": "markdown",
   "metadata": {},
   "source": [
    "We load the data from a CSV file and use Pandas library to show it."
   ]
  },
  {
   "cell_type": "code",
   "execution_count": null,
   "metadata": {},
   "outputs": [],
   "source": [
    "df = pd.read_csv('data_svms_and_kernels.csv')\n",
    "df.head()"
   ]
  },
  {
   "cell_type": "markdown",
   "metadata": {},
   "source": [
    "We transform the data into Numpy array and use `LabelEncoder` to change the labels into $\\{-1,+1\\}$"
   ]
  },
  {
   "cell_type": "code",
   "execution_count": null,
   "metadata": {},
   "outputs": [],
   "source": [
    "X=df.drop('Label',axis=1).to_numpy()\n",
    "y_text=df['Label'].to_numpy()\n",
    "y=(2*LabelEncoder().fit_transform(y_text))-1"
   ]
  },
  {
   "cell_type": "markdown",
   "metadata": {},
   "source": [
    "Now we plot the data to see how the classes look like"
   ]
  },
  {
   "cell_type": "code",
   "execution_count": null,
   "metadata": {},
   "outputs": [],
   "source": [
    "points_colorscale = [\n",
    "                     [0.0, 'rgb(239, 85, 59)'],\n",
    "                     [1.0, 'rgb(99, 110, 250)'],\n",
    "                    ]\n",
    "\n",
    "points = go.Scatter(\n",
    "                    x=df['Feature 1'],\n",
    "                    y=df['Feature 2'],\n",
    "                    mode='markers',\n",
    "                    marker=dict(color=y,\n",
    "                                colorscale=points_colorscale)\n",
    "                   )\n",
    "layout = go.Layout(\n",
    "                   xaxis=dict(range=[-1.05, 1.05]),\n",
    "                   yaxis=dict(range=[-1.05, 1.05])\n",
    "                  )\n",
    "\n",
    "fig = go.Figure(data=[points], layout=layout)\n",
    "fig.show()"
   ]
  },
  {
   "cell_type": "markdown",
   "metadata": {},
   "source": [
    "Let's prepare the data by splitting it to training, validation and test sets. 60% of the data will be for training, 20% for validation and 20% for testing."
   ]
  },
  {
   "cell_type": "code",
   "execution_count": null,
   "metadata": {},
   "outputs": [],
   "source": [
    "(X_train,X_vt,y_train,y_vt)=train_test_split(X,y,test_size=0.4,random_state=0)\n",
    "(X_validation,X_test,y_validation,y_test)=train_test_split(X_vt,y_vt,test_size=0.5,random_state=0)"
   ]
  },
  {
   "cell_type": "markdown",
   "metadata": {},
   "source": [
    "## Building SVM with no kernel\n",
    "At the first step, we build SVM classifiers with no kernel. To do so, we should set the `kernel` argument of `SVC` to `'linear'`"
   ]
  },
  {
   "cell_type": "code",
   "execution_count": null,
   "metadata": {},
   "outputs": [],
   "source": [
    "svm=SVC(kernel='linear')\n",
    "svm.fit(X_train,y_train)"
   ]
  },
  {
   "cell_type": "markdown",
   "metadata": {},
   "source": [
    "And let's visualize the decision boundary with support vectors."
   ]
  },
  {
   "cell_type": "code",
   "execution_count": null,
   "metadata": {},
   "outputs": [],
   "source": [
    "decision_colorscale = [\n",
    "                       [0.0, 'rgb(239,  85,  59)'],\n",
    "                       [0.5, 'rgb(  0,   0,   0)'],\n",
    "                       [1.0, 'rgb( 99, 110, 250)']\n",
    "                      ]\n",
    "\n",
    "detail_steps = 100\n",
    "\n",
    "(x_vis_0_min, x_vis_1_min) = (-1.05, -1.05) #X_train.min(axis=0)\n",
    "(x_vis_0_max, x_vis_1_max) = ( 1.05,  1.05) #X_train.max(axis=0)\n",
    "\n",
    "x_vis_0_range = np.linspace(x_vis_0_min, x_vis_0_max, detail_steps)\n",
    "x_vis_1_range = np.linspace(x_vis_1_min, x_vis_1_max, detail_steps)\n",
    "\n",
    "(XX_vis_0, XX_vis_1) = np.meshgrid(x_vis_0_range, x_vis_0_range)\n",
    "\n",
    "X_vis = np.c_[XX_vis_0.reshape(-1), XX_vis_1.reshape(-1)]\n",
    "\n",
    "YY_vis = svm.decision_function(X_vis).reshape(XX_vis_0.shape)\n",
    "\n",
    "points = go.Scatter(\n",
    "                    x=df['Feature 1'],\n",
    "                    y=df['Feature 2'],\n",
    "                    mode='markers',\n",
    "                    marker=dict(\n",
    "                                color=y,\n",
    "                                colorscale=points_colorscale),\n",
    "                    showlegend=False\n",
    "                   )\n",
    "SVs = svm.support_vectors_\n",
    "support_vectors = go.Scatter(\n",
    "                             x=SVs[:, 0],\n",
    "                             y=SVs[:, 1],\n",
    "                             mode='markers',\n",
    "                             marker=dict(\n",
    "                                         size=15,\n",
    "                                         color='black',\n",
    "                                         opacity = 0.1,\n",
    "                                         colorscale=points_colorscale),\n",
    "                             line=dict(dash='solid'),\n",
    "                             showlegend=False\n",
    "                            )\n",
    "\n",
    "decision_surface = go.Contour(x=x_vis_0_range,\n",
    "                              y=x_vis_1_range,\n",
    "                              z=YY_vis,\n",
    "                              contours_coloring='lines',\n",
    "                              line_width=2,\n",
    "                              contours=dict(\n",
    "                                            start=0,\n",
    "                                            end=0,\n",
    "                                            size=1),\n",
    "                              colorscale=decision_colorscale,\n",
    "                              showscale=False\n",
    "                             )\n",
    "\n",
    "margins = go.Contour(x=x_vis_0_range,\n",
    "                     y=x_vis_1_range,\n",
    "                     z=YY_vis,\n",
    "                     contours_coloring='lines',\n",
    "                     line_width=2,\n",
    "                     contours=dict(\n",
    "                                   start=-1,\n",
    "                                   end=1,\n",
    "                                   size=2),\n",
    "                     line=dict(dash='dash'),\n",
    "                     colorscale=decision_colorscale,\n",
    "                     showscale=False\n",
    "                    )\n",
    "\n",
    "fig2 = go.Figure(data=[margins, decision_surface, support_vectors, points], layout=layout)\n",
    "fig2.show()"
   ]
  },
  {
   "cell_type": "markdown",
   "metadata": {},
   "source": [
    "## SVM with kernels\n",
    "Now, we use different kernels and see how they affect the results. Let's use a polynomial kernel. Define `svm_p3` to be an instance of class `SVC` but this time with arguments `kernel='poly'` and `degree=3` to define a degree-3 polynomial kernel:"
   ]
  },
  {
   "cell_type": "code",
   "execution_count": null,
   "metadata": {},
   "outputs": [],
   "source": [
    "svm_p3=SVC(kernel='poly',degree=3)\n",
    "svm_p3.fit(X_train,y_train)"
   ]
  },
  {
   "cell_type": "markdown",
   "metadata": {},
   "source": [
    "Let's visualize the results."
   ]
  },
  {
   "cell_type": "code",
   "execution_count": null,
   "metadata": {},
   "outputs": [],
   "source": [
    "YY_vis_p3 = svm_p3.decision_function(X_vis).reshape(XX_vis_0.shape)\n",
    "\n",
    "SVs_p3 = svm_p3.support_vectors_\n",
    "support_vectors_p3 = go.Scatter(\n",
    "                                x=SVs_p3[:, 0],\n",
    "                                y=SVs_p3[:, 1],\n",
    "                                mode='markers',\n",
    "                                marker=dict(\n",
    "                                            size=15,\n",
    "                                            color='black',\n",
    "                                            opacity = 0.1,\n",
    "                                            colorscale=points_colorscale),\n",
    "                                line=dict(dash='solid'),\n",
    "                                showlegend=False\n",
    "                               )\n",
    "\n",
    "decision_surface_p3 = go.Contour(x=x_vis_0_range,\n",
    "                                 y=x_vis_1_range,\n",
    "                                 z=YY_vis_p3,\n",
    "                                 contours_coloring='lines',\n",
    "                                 line_width=2,\n",
    "                                 contours=dict(\n",
    "                                               start=0,\n",
    "                                               end=0,\n",
    "                                               size=1),\n",
    "                                 colorscale=decision_colorscale,\n",
    "                                 showscale=False\n",
    "                                )\n",
    "\n",
    "margins_p3 = go.Contour(x=x_vis_0_range,\n",
    "                        y=x_vis_1_range,\n",
    "                        z=YY_vis_p3,\n",
    "                        contours_coloring='lines',\n",
    "                        line_width=2,\n",
    "                        contours=dict(\n",
    "                                      start=-1,\n",
    "                                      end=1,\n",
    "                                      size=2),\n",
    "                        line=dict(dash='dash'),\n",
    "                        colorscale=decision_colorscale,\n",
    "                        showscale=False\n",
    "                       )\n",
    "\n",
    "fig4 = go.Figure(data=[margins_p3, decision_surface_p3, support_vectors_p3, points], layout=layout)\n",
    "fig4.show()"
   ]
  },
  {
   "cell_type": "markdown",
   "metadata": {},
   "source": [
    "And finally, we try RBF (Radial Basis Function) kernel which is the default kernel.\n",
    "\n",
    "### Exercise\n",
    "As an exercise, try to fit an SVM classifier by using `rbf` kernel."
   ]
  },
  {
   "cell_type": "code",
   "execution_count": null,
   "metadata": {},
   "outputs": [],
   "source": [
    "svm_r= #Enter your code here.\n",
    "svm_r.fit(X_train,y_train)"
   ]
  },
  {
   "cell_type": "code",
   "execution_count": null,
   "metadata": {},
   "outputs": [],
   "source": [
    "YY_vis_r = svm_r.decision_function(X_vis).reshape(XX_vis_0.shape)\n",
    "\n",
    "SVs_r = svm_r.support_vectors_\n",
    "support_vectors_r = go.Scatter(\n",
    "                                x=SVs_r[:, 0],\n",
    "                                y=SVs_r[:, 1],\n",
    "                                mode='markers',\n",
    "                                marker=dict(\n",
    "                                            size=15,\n",
    "                                            color='black',\n",
    "                                            opacity = 0.1,\n",
    "                                            colorscale=points_colorscale),\n",
    "                                line=dict(dash='solid'),\n",
    "                                showlegend=False\n",
    "                               )\n",
    "\n",
    "decision_surface_r = go.Contour(x=x_vis_0_range,\n",
    "                                 y=x_vis_1_range,\n",
    "                                 z=YY_vis_r,\n",
    "                                 contours_coloring='lines',\n",
    "                                 line_width=2,\n",
    "                                 contours=dict(\n",
    "                                               start=0,\n",
    "                                               end=0,\n",
    "                                               size=1),\n",
    "                                 colorscale=decision_colorscale,\n",
    "                                 showscale=False\n",
    "                                )\n",
    "\n",
    "margins_r = go.Contour(x=x_vis_0_range,\n",
    "                        y=x_vis_1_range,\n",
    "                        z=YY_vis_r,\n",
    "                        contours_coloring='lines',\n",
    "                        line_width=2,\n",
    "                        contours=dict(\n",
    "                                      start=-1,\n",
    "                                      end=1,\n",
    "                                      size=2),\n",
    "                        line=dict(dash='dash'),\n",
    "                        colorscale=decision_colorscale,\n",
    "                        showscale=False\n",
    "                       )\n",
    "\n",
    "fig5 = go.Figure(data=[margins_r, decision_surface_r, support_vectors_r, points], layout=layout)\n",
    "fig5.show()"
   ]
  },
  {
   "cell_type": "markdown",
   "metadata": {},
   "source": [
    "## Model selection\n",
    "In order to pick the best model, we compare the accuracy of the developed models. We start with the linear SVM."
   ]
  },
  {
   "cell_type": "code",
   "execution_count": null,
   "metadata": {},
   "outputs": [],
   "source": [
    "print('The accuracy of the linear SVM for the training data is: {}'.format(svm.score(X_train,y_train)))\n",
    "print('The accuracy of the linear SVM for the validation data is: {}'.format(svm.score(X_validation,y_validation)))"
   ]
  },
  {
   "cell_type": "markdown",
   "metadata": {},
   "source": [
    "Next, we show the accuracy of the SVM with 3rd order polynomial kernel."
   ]
  },
  {
   "cell_type": "code",
   "execution_count": null,
   "metadata": {},
   "outputs": [],
   "source": [
    "print('The accuracy of the SVM with 3rd order kernel for the training data is: {}'.format(svm_p3.score(X_train,y_train)))\n",
    "print('The accuracy of the SVM with 3rd order kernel for the validation data is: {}'.format(svm_p3.score(X_validation,y_validation)))"
   ]
  },
  {
   "cell_type": "markdown",
   "metadata": {},
   "source": [
    "And finally, we show the accuracy of the SVM with RBF kernel."
   ]
  },
  {
   "cell_type": "code",
   "execution_count": null,
   "metadata": {},
   "outputs": [],
   "source": [
    "print('The accuracy of the SVM with RBF kernel for the training data is: {}'.format(svm_r.score(X_train,y_train)))\n",
    "print('The accuracy of the SVM with RBF kernel for the validation data is: {}'.format(svm_r.score(X_validation,y_validation)))"
   ]
  },
  {
   "cell_type": "markdown",
   "metadata": {},
   "source": [
    "## Final assessment\n",
    "In the last step, we evaluate the best model with the test data."
   ]
  },
  {
   "cell_type": "code",
   "execution_count": null,
   "metadata": {},
   "outputs": [],
   "source": [
    "print('The accuracy of the SVM with RBF kernel for the test data is: {}'.format(svm_r.score(X_test,y_test)))"
   ]
  },
  {
   "cell_type": "code",
   "execution_count": null,
   "metadata": {},
   "outputs": [],
   "source": []
  }
 ],
 "metadata": {
  "kernelspec": {
   "display_name": "Python 3",
   "language": "python",
   "name": "python3"
  },
  "language_info": {
   "codemirror_mode": {
    "name": "ipython",
    "version": 3
   },
   "file_extension": ".py",
   "mimetype": "text/x-python",
   "name": "python",
   "nbconvert_exporter": "python",
   "pygments_lexer": "ipython3",
   "version": "3.7.3"
  }
 },
 "nbformat": 4,
 "nbformat_minor": 2
}
